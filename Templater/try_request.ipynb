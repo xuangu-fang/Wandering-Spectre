{
 "cells": [
  {
   "cell_type": "code",
   "execution_count": 12,
   "metadata": {},
   "outputs": [
    {
     "name": "stdout",
     "output_type": "stream",
     "text": [
      "0 解构现代化：温铁军演讲录（《告别百年激进》之“前传”，自《八次危机》《去依附》之后又一力作!） 温铁军 21884054 zlibrary\n",
      "1 解构现代化：温铁军演讲录 温铁军 22240680 zlibrary\n",
      "2 解构现代化：温铁军演讲录 温铁军著 21186281 zlibrary\n",
      "3 解构现代化  温铁军演讲录 温铁军著 11267614 superlib\n",
      "4 告别百年激进:温铁军演讲录2004-2014（上） 温铁军 5411388 zlibrary\n",
      "5 告别百年激进  温铁军演讲录  2004-2014  上卷 温铁军著 14055771 superlib\n",
      "6 从晏阳初到温铁军 孟雷编著 11339551 superlib\n",
      "7 八次危机：1949-2009 中国的真实经验-温铁军等. Dency wang 19315288 zlibrary\n",
      "8 告别百年激进：中国的现代化问题 (温铁军演讲录2004-2014) 温铁军 21465071 zlibrary\n",
      "9 全球化与国家竞争：新兴七国比较研究（温铁军教授团队历时十年成果，揭示金融全球化的本质，探寻发展中国家的突围之路，继八次危机、去依附、解构现代化后重磅力作。） 温铁军 16870035 zlibrary\n",
      "10 全球化与国家竞争：新兴七国比较研究（温铁军教授团队历时十年成果，揭示金融全球化的本质，探寻发展中国家的突围之路，继八次危机、去依附、解构现代化后重磅力作。） 温铁军 16870037 zlibrary\n",
      "11 全球化与国家竞争：新兴七国比较研究（温铁军教授团队历时十年成果，揭示金融全球化的本质，探寻发展中国家的突围之路，继八次危机、去依附、解构现代化后重磅力作。） 温铁军 16870038 zlibrary\n",
      "12 全球化与国家竞争：新兴七国比较研究（温铁军教授团队历时十年成果，揭示金融全球化的本质，探寻发展中国家的突围之路，继八次危机、去依附、解构现代化后重磅力作。） 温铁军 17426984 zlibrary\n",
      "13 全球化与国家竞争：新兴七国比较研究（温铁军教授团队历时十年成果，揭示金融全球化的本质，探寻发展中国家的突围之路，继八次危机、去依附、解构现代化后重磅力作。） 温铁军 18151499 zlibrary\n",
      "14 全球化与国家竞争：新兴七国比较研究（温铁军教授团队历时十年成果，揭示金融全球化的本质，探寻发展中国家的突围之路，继八次危机、去依附、解构现代化后重磅力作。） 温铁军 18588207 zlibrary\n",
      "15 全球化与国家竞争：新兴七国比较研究（温铁军教授团队历时十年成果，揭示金融全球化的本质，探寻发展中国家的突围之路，继八次危机、去依附、解构现代化后重磅力作。） 温铁军 19085700 zlibrary\n",
      "16 全球化与国家竞争：新兴七国比较研究（温铁军教授团队历时十年成果，揭示金融全球化的本质，探寻发展中国家的突围之路，继八次危机、去依附、解构现代化后重磅力作。） 温铁军 21147101 zlibrary\n",
      "17 全球化与国家竞争：新兴七国比较研究（温铁军教授团队历时十年成果，揭示金融全球化的本质，探寻发展中国家的突围之路，继八次危机、去依附、解构现代化后重磅力作。） 温铁军 21147102 zlibrary\n",
      "18 全球化与国家竞争：新兴七国比较研究（温铁军教授团队历时十年成果，揭示金融全球化的本质，探寻发展中国家的突围之路，继八次危机、去依附、解构现代化后重磅力作。） 温铁军 21147103 zlibrary\n",
      "19 全球化与国家竞争：新兴七国比较研究（温铁军教授团队历时十年成果，揭示金融全球化的本质，探寻发展中国家的突围之路，继八次危机、去依附、解构现代化后重磅力作。） 温铁军 21392677 zlibrary\n"
     ]
    }
   ],
   "source": [
    "import requests\n",
    "\n",
    "# 请求头（如果有特定的请求头需要添加，可以在此处定义）\n",
    "headers = {}\n",
    "\n",
    "# headers = [{\"name\":\"Ylibrary\",\"url\":\"https://superlib.ylibrary.org\",\"type\":\"full\",\"sensitive\":false,\"detail\":true}]\n",
    "\n",
    "# 请求的 JSON 数据\n",
    "search_data = {\n",
    "    'keyword': '温铁军',\n",
    "    'page': 2,\n",
    "    'sensitive': False,\n",
    "}\n",
    "\n",
    "# headers= {\"name\":\"Ylibrary\",\"url\":\"https://superlib.ylibrary.org\",\"type\":\"full\",\"sensitive\":False,\"detail\":True}\n",
    "\n",
    "\n",
    "# 发起请求\n",
    "response = requests.post('https://api.ylibrary.org/api/search/', headers=headers, json=search_data)\n",
    "\n",
    "# response = requests.post('https://api.superlib.ylibrary.org/api/search/', headers=headers, json=search_data)\n",
    "\n",
    "\n",
    "\n",
    "\n",
    "# 将响应转换为 JSON 格式\n",
    "search_results = response.json()\n",
    "\n",
    "# 打印搜索结果\n",
    "for i, book in enumerate(search_results['data']):\n",
    "    print(i,book['title'], book['author'], book['id'], book['source'])\n",
    "    \n",
    "        \n"
   ]
  },
  {
   "cell_type": "code",
   "execution_count": 7,
   "metadata": {},
   "outputs": [
    {
     "name": "stdout",
     "output_type": "stream",
     "text": [
      "说什么激进 李书磊著 cedc4f346be85712a0e9630bd424e84c\n",
      "暂无ipfs_cid\n"
     ]
    }
   ],
   "source": [
    "# 请求的 JSON 数据（以搜索结果中的第一本书为例）\n",
    "id=7\n",
    "\n",
    "detail_data = {\n",
    "    'id': search_results['data'][id]['id'],\n",
    "    'source': search_results['data'][id]['source'],\n",
    "}\n",
    "\n",
    "# 发起请求\n",
    "response = requests.post('https://api.ylibrary.org/api/detail/', headers=headers, json=detail_data)\n",
    "\n",
    "# 将响应转换为 JSON 格式\n",
    "book_details = response.json()\n",
    "# print(book_details)\n",
    "\n",
    "# 打印书籍详情\n",
    "\n",
    "print(book_details['title'], book_details['author'], book_details['md5'], book_details['source'])\n",
    "if 'ipfs_cid' in book_details:\n",
    "    print('https://ipfs.io/ipfs/'+book_details['ipfs_cid'])\n",
    "else:\n",
    "    print('暂无ipfs_cid')\n"
   ]
  },
  {
   "cell_type": "code",
   "execution_count": 8,
   "metadata": {},
   "outputs": [
    {
     "data": {
      "text/plain": [
       "{'title': '说什么激进',\n",
       " 'author': '李书磊著',\n",
       " 'publisher': '北京：中国文联出版社',\n",
       " 'isbn': '7505942069',\n",
       " 'extension': 'pdf',\n",
       " 'filesize': '12634720',\n",
       " 'year': '2003',\n",
       " 'md5': 'cedc4f346be85712a0e9630bd424e84c',\n",
       " 'id': '10993796',\n",
       " 'source': 'superlib'}"
      ]
     },
     "execution_count": 8,
     "metadata": {},
     "output_type": "execute_result"
    }
   ],
   "source": [
    "book_details"
   ]
  }
 ],
 "metadata": {
  "kernelspec": {
   "display_name": "pt",
   "language": "python",
   "name": "python3"
  },
  "language_info": {
   "codemirror_mode": {
    "name": "ipython",
    "version": 3
   },
   "file_extension": ".py",
   "mimetype": "text/x-python",
   "name": "python",
   "nbconvert_exporter": "python",
   "pygments_lexer": "ipython3",
   "version": "3.6.9"
  },
  "orig_nbformat": 4
 },
 "nbformat": 4,
 "nbformat_minor": 2
}
